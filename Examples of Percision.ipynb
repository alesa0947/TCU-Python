{
 "cells": [
  {
   "cell_type": "code",
   "execution_count": 1,
   "metadata": {},
   "outputs": [],
   "source": [
    "import numpy as np"
   ]
  },
  {
   "cell_type": "markdown",
   "metadata": {},
   "source": [
    "## Creating the factorial function"
   ]
  },
  {
   "cell_type": "code",
   "execution_count": 18,
   "metadata": {},
   "outputs": [],
   "source": [
    "def factorial(n):\n",
    "    n = float(n)\n",
    "    if n == 1 or n == 0:\n",
    "        return 1\n",
    "    else:\n",
    "        return n*factorial(n-1)"
   ]
  },
  {
   "cell_type": "markdown",
   "metadata": {},
   "source": [
    "## The function below will calculate $e^{-x}$ with the sum having N terms (i.e. variable precision)\n",
    "## The simple case"
   ]
  },
  {
   "cell_type": "code",
   "execution_count": 12,
   "metadata": {},
   "outputs": [],
   "source": [
    "def neg_exp_simple(x, N=100):\n",
    "    Sum = 0\n",
    "    for n in range(N+1):\n",
    "        Sum += (-1)**n *(x**n)/ factorial(n)\n",
    "    return Sum"
   ]
  },
  {
   "cell_type": "code",
   "execution_count": 20,
   "metadata": {},
   "outputs": [
    {
     "name": "stdout",
     "output_type": "stream",
     "text": [
      "simple calculates exp(-0) = 1.000000e+00\n",
      "where numpy calculates exp(-0) = 1.000000e+00\n",
      "\n",
      "\n",
      "simple calculates exp(-10) = 4.539993e-05\n",
      "where numpy calculates exp(-10) = 4.539993e-05\n",
      "\n",
      "\n",
      "simple calculates exp(-20) = 4.992639e-09\n",
      "where numpy calculates exp(-20) = 2.061154e-09\n",
      "\n",
      "\n",
      "simple calculates exp(-30) = -4.820851e-06\n",
      "where numpy calculates exp(-30) = 9.357623e-14\n",
      "\n",
      "\n",
      "simple calculates exp(-40) = 5.382630e+01\n",
      "where numpy calculates exp(-40) = 4.248354e-18\n",
      "\n",
      "\n",
      "simple calculates exp(-50) = 2.805054e+11\n",
      "where numpy calculates exp(-50) = 1.928750e-22\n",
      "\n",
      "\n",
      "simple calculates exp(-60) = 2.614879e+19\n",
      "where numpy calculates exp(-60) = 8.756511e-27\n",
      "\n",
      "\n",
      "simple calculates exp(-70) = 1.422139e+26\n",
      "where numpy calculates exp(-70) = 3.975450e-31\n",
      "\n",
      "\n",
      "simple calculates exp(-80) = 9.670915e+31\n",
      "where numpy calculates exp(-80) = 1.804851e-35\n",
      "\n",
      "\n",
      "simple calculates exp(-90) = 1.344401e+37\n",
      "where numpy calculates exp(-90) = 8.194013e-40\n",
      "\n",
      "\n",
      "simple calculates exp(-100) = 5.344124e+41\n",
      "where numpy calculates exp(-100) = 3.720076e-44\n",
      "\n",
      "\n"
     ]
    }
   ],
   "source": [
    "for i in range(0, 110, 10):\n",
    "    print (('simple calculates exp(-%i) = %e') %(i, neg_exp_simple(i)))\n",
    "    print (('where numpy calculates exp(-%i) = %e') %(i, np.exp(-i)))\n",
    "    print('\\n')"
   ]
  },
  {
   "cell_type": "markdown",
   "metadata": {},
   "source": [
    "## Recursion Method"
   ]
  },
  {
   "cell_type": "code",
   "execution_count": 28,
   "metadata": {},
   "outputs": [
    {
     "name": "stdout",
     "output_type": "stream",
     "text": [
      "exp(-0) is 1.00000e+00\n",
      "where numpy's exp(-0) is 1.00000e+00\n",
      "\n",
      "\n",
      "exp(-10) is 4.53999e-05\n",
      "where numpy's exp(-10) is 4.53999e-05\n",
      "\n",
      "\n",
      "exp(-20) is 2.98023e-08\n",
      "where numpy's exp(-20) is 2.06115e-09\n",
      "\n",
      "\n",
      "exp(-30) is 7.32427e-04\n",
      "where numpy's exp(-30) is 9.35762e-14\n",
      "\n",
      "\n",
      "exp(-40) is 4.66781e+01\n",
      "where numpy's exp(-40) is 4.24835e-18\n",
      "\n",
      "\n",
      "exp(-50) is 2.80505e+11\n",
      "where numpy's exp(-50) is 1.92875e-22\n",
      "\n",
      "\n",
      "exp(-60) is 2.61488e+19\n",
      "where numpy's exp(-60) is 8.75651e-27\n",
      "\n",
      "\n",
      "exp(-70) is 1.42214e+26\n",
      "where numpy's exp(-70) is 3.97545e-31\n",
      "\n",
      "\n",
      "exp(-80) is 9.67092e+31\n",
      "where numpy's exp(-80) is 1.80485e-35\n",
      "\n",
      "\n",
      "exp(-90) is 1.34440e+37\n",
      "where numpy's exp(-90) is 8.19401e-40\n",
      "\n",
      "\n",
      "exp(-100) is 5.34412e+41\n",
      "where numpy's exp(-100) is 3.72008e-44\n",
      "\n",
      "\n"
     ]
    }
   ],
   "source": [
    "for x in range(0,110,10):\n",
    "    sn = [1]\n",
    "    x = float(x)\n",
    "    for n in range(1,101):\n",
    "        sn_old = sn[-1]\n",
    "        sn_new = ((-1)* x * sn_old)/n\n",
    "        sn.append(sn_new)\n",
    "    finalanswer = np.sum(sn)\n",
    "   \n",
    "    print (('exp(-%i) is %.5e') %(x, finalanswer))\n",
    "    print (('where numpy\\'s exp(-%i) is %.5e') %(x, np.exp(-x)))\n",
    "    print ('\\n')"
   ]
  },
  {
   "cell_type": "markdown",
   "metadata": {},
   "source": [
    "## Inverse Method"
   ]
  },
  {
   "cell_type": "code",
   "execution_count": 25,
   "metadata": {},
   "outputs": [
    {
     "name": "stdout",
     "output_type": "stream",
     "text": [
      "exp(-0) is 1.00000e+00\n",
      "where numpy's exp(-0) is 1.00000e+00\n",
      "\n",
      "\n",
      "exp(-10) is 4.53999e-05\n",
      "where numpy's exp(-10) is 4.53999e-05\n",
      "\n",
      "\n",
      "exp(-20) is 2.06115e-09\n",
      "where numpy's exp(-20) is 2.06115e-09\n",
      "\n",
      "\n",
      "exp(-30) is 9.35762e-14\n",
      "where numpy's exp(-30) is 9.35762e-14\n",
      "\n",
      "\n",
      "exp(-40) is 4.24835e-18\n",
      "where numpy's exp(-40) is 4.24835e-18\n",
      "\n",
      "\n",
      "exp(-50) is 1.92875e-22\n",
      "where numpy's exp(-50) is 1.92875e-22\n",
      "\n",
      "\n",
      "exp(-60) is 8.75652e-27\n",
      "where numpy's exp(-60) is 8.75651e-27\n",
      "\n",
      "\n",
      "exp(-70) is 3.97661e-31\n",
      "where numpy's exp(-70) is 3.97545e-31\n",
      "\n",
      "\n",
      "exp(-80) is 1.82894e-35\n",
      "where numpy's exp(-80) is 1.80485e-35\n",
      "\n",
      "\n",
      "exp(-90) is 9.47175e-40\n",
      "where numpy's exp(-90) is 8.19401e-40\n",
      "\n",
      "\n",
      "exp(-100) is 7.06484e-44\n",
      "where numpy's exp(-100) is 3.72008e-44\n",
      "\n",
      "\n"
     ]
    }
   ],
   "source": [
    "for x in range(0,110,10):\n",
    "    sn = [1]\n",
    "    x = float(x)\n",
    "    for n in range(1,101):\n",
    "        sn_new = x**n/factorial(n)\n",
    "        sn.append(sn_new)\n",
    "    sum_of_sn = np.sum(sn)\n",
    "    finalanswer = sum_of_sn**(-1)\n",
    "    \n",
    "    print (('exp(-%i) is %.5e') %(x, finalanswer))\n",
    "    print (('where numpy\\'s exp(-%i) is %.5e') %(x, np.exp(-x)))\n",
    "    print('\\n')"
   ]
  },
  {
   "cell_type": "code",
   "execution_count": null,
   "metadata": {},
   "outputs": [],
   "source": []
  }
 ],
 "metadata": {
  "kernelspec": {
   "display_name": "Python 3",
   "language": "python",
   "name": "python3"
  },
  "language_info": {
   "codemirror_mode": {
    "name": "ipython",
    "version": 3
   },
   "file_extension": ".py",
   "mimetype": "text/x-python",
   "name": "python",
   "nbconvert_exporter": "python",
   "pygments_lexer": "ipython3",
   "version": "3.7.3"
  }
 },
 "nbformat": 4,
 "nbformat_minor": 2
}
