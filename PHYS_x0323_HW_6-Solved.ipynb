{
 "cells": [
  {
   "cell_type": "code",
   "execution_count": 11,
   "metadata": {},
   "outputs": [],
   "source": [
    "import numpy as np"
   ]
  },
  {
   "cell_type": "markdown",
   "metadata": {},
   "source": [
    "## 1. FizzBuzz"
   ]
  },
  {
   "cell_type": "code",
   "execution_count": 12,
   "metadata": {},
   "outputs": [
    {
     "name": "stdout",
     "output_type": "stream",
     "text": [
      "1\n",
      "2\n",
      "Fizz\n",
      "3\n",
      "4\n",
      "Buzz\n",
      "5\n",
      "Fizz\n",
      "6\n",
      "7\n",
      "8\n",
      "Fizz\n",
      "9\n",
      "Buzz\n",
      "10\n",
      "11\n",
      "Fizz\n",
      "12\n",
      "13\n",
      "14\n",
      "Fizz\n",
      "Buzz\n",
      "FizzBuzz\n",
      "16\n",
      "17\n",
      "Fizz\n",
      "18\n",
      "19\n",
      "Buzz\n",
      "20\n",
      "Fizz\n",
      "21\n",
      "22\n",
      "23\n",
      "Fizz\n",
      "24\n",
      "Buzz\n",
      "25\n",
      "26\n",
      "Fizz\n",
      "27\n",
      "28\n",
      "29\n",
      "Fizz\n",
      "Buzz\n",
      "FizzBuzz\n",
      "31\n",
      "32\n",
      "Fizz\n",
      "33\n",
      "34\n",
      "Buzz\n",
      "35\n",
      "Fizz\n",
      "36\n",
      "37\n",
      "38\n",
      "Fizz\n",
      "39\n",
      "Buzz\n",
      "40\n",
      "41\n",
      "Fizz\n",
      "42\n",
      "43\n",
      "44\n",
      "Fizz\n",
      "Buzz\n",
      "FizzBuzz\n",
      "46\n",
      "47\n",
      "Fizz\n",
      "48\n",
      "49\n",
      "Buzz\n",
      "50\n",
      "Fizz\n",
      "51\n",
      "52\n",
      "53\n",
      "Fizz\n",
      "54\n",
      "Buzz\n",
      "55\n",
      "56\n",
      "Fizz\n",
      "57\n",
      "58\n",
      "59\n",
      "Fizz\n",
      "Buzz\n",
      "FizzBuzz\n",
      "61\n",
      "62\n",
      "Fizz\n",
      "63\n",
      "64\n",
      "Buzz\n",
      "65\n",
      "Fizz\n",
      "66\n",
      "67\n",
      "68\n",
      "Fizz\n",
      "69\n",
      "Buzz\n",
      "70\n",
      "71\n",
      "Fizz\n",
      "72\n",
      "73\n",
      "74\n",
      "Fizz\n",
      "Buzz\n",
      "FizzBuzz\n",
      "76\n",
      "77\n",
      "Fizz\n",
      "78\n",
      "79\n",
      "Buzz\n",
      "80\n",
      "Fizz\n",
      "81\n",
      "82\n",
      "83\n",
      "Fizz\n",
      "84\n",
      "Buzz\n",
      "85\n",
      "86\n",
      "Fizz\n",
      "87\n",
      "88\n",
      "89\n",
      "Fizz\n",
      "Buzz\n",
      "FizzBuzz\n",
      "91\n",
      "92\n",
      "Fizz\n",
      "93\n",
      "94\n",
      "Buzz\n",
      "95\n",
      "Fizz\n",
      "96\n",
      "97\n",
      "98\n",
      "Fizz\n",
      "99\n",
      "Buzz\n",
      "100\n"
     ]
    }
   ],
   "source": [
    "for a in range(1,101):  # shows that the remainder of dividing a by 3 and/or 5 = 0, hence it is a multiple\n",
    "    if a%3 == 0:   \n",
    "        print(\"Fizz\")\n",
    "    if a%5 == 0:\n",
    "        print(\"Buzz\")\n",
    "    if a%3 == 0 and a%5==0:\n",
    "        print(\"FizzBuzz\")\n",
    "    else:\n",
    "        print(a)\n",
    "        \n",
    "        "
   ]
  },
  {
   "cell_type": "code",
   "execution_count": null,
   "metadata": {},
   "outputs": [],
   "source": []
  },
  {
   "cell_type": "markdown",
   "metadata": {},
   "source": [
    "## 2. Heat capacity of a solid"
   ]
  },
  {
   "cell_type": "code",
   "execution_count": 49,
   "metadata": {},
   "outputs": [],
   "source": [
    "#integral part\n",
    "\n",
    "def f(x):\n",
    "    if x == 0:\n",
    "        return 0\n",
    "    else:\n",
    "        return ((x**4)*(np.exp(x)))/((np.exp(x)-1)**2)"
   ]
  },
  {
   "cell_type": "code",
   "execution_count": 91,
   "metadata": {},
   "outputs": [
    {
     "name": "stderr",
     "output_type": "stream",
     "text": [
      "/anaconda3/lib/python3.7/site-packages/ipykernel_launcher.py:7: RuntimeWarning: overflow encountered in double_scalars\n",
      "  import sys\n"
     ]
    }
   ],
   "source": [
    "N = 1000\n",
    "a = 0.0 #starting point of integral\n",
    "b = 428 # b = debye_temp/temp: Ending point of integral\n",
    "V = 0.001 #Volume in cm^3\n",
    "rho = 6.022*(10**(28)) #number density m^(-3)\n",
    "k_B = 1.38*(10**(-23)) # m^2 kg s^(-2) Boltzmann's constant\n",
    "\n",
    "\n",
    "#Trapezoidal Rule \n",
    "s = 0.5*f(a) + 0.5*f(b)\n",
    "h = (b-a)/N\n",
    "\n",
    "for k in range(1,N):\n",
    "    h = (b-a)/N\n",
    "    s += f(a+k*h)"
   ]
  },
  {
   "cell_type": "code",
   "execution_count": 92,
   "metadata": {},
   "outputs": [
    {
     "name": "stdout",
     "output_type": "stream",
     "text": [
      "Cv at 5 K is  5.14361583737225e-30\n",
      "Cv at 500 K is  3.992206799466451e-26\n"
     ]
    }
   ],
   "source": [
    "def cv(T):\n",
    "    N = 1000\n",
    "    debye_temp = 428 #Kelvin \n",
    "    constants = 9*V*k_B*(1/debye_temp)**3\n",
    "    a = 0\n",
    "    b = debye_temp/T # debye_temp/temp #Ending point of integral\n",
    "    s = 0.5*f(a) + 0.5*f(b)\n",
    "    \n",
    "    for k in range(1,N):\n",
    "        h = (b-a)/N\n",
    "        s += f(a+k*h)\n",
    "    return(h*s)*(T**3)*constants\n",
    "    \n",
    "print('Cv at 5 K is ', cv(5))\n",
    "print('Cv at 500 K is ', cv(500))"
   ]
  },
  {
   "cell_type": "code",
   "execution_count": 80,
   "metadata": {},
   "outputs": [],
   "source": [
    "#calculate cv for each temperature, then add it to an array\n",
    "\n",
    "def cv_array(temp_array):\n",
    "    cv_array = []\n",
    "    \n",
    "    for i in range(len(temp_array)):\n",
    "        cv_array.append(cv(temp_array[i]))\n",
    "    return np.array(cv_array)\n",
    "    "
   ]
  },
  {
   "cell_type": "code",
   "execution_count": 86,
   "metadata": {},
   "outputs": [],
   "source": [
    "from matplotlib import pyplot as plt\n",
    "temp = np.arange(5,501)\n",
    "cv_T = cv_array(temp)"
   ]
  },
  {
   "cell_type": "code",
   "execution_count": 90,
   "metadata": {},
   "outputs": [
    {
     "data": {
      "text/plain": [
       "Text(0, 0.5, 'Heat Capcity J/K')"
      ]
     },
     "execution_count": 90,
     "metadata": {},
     "output_type": "execute_result"
    },
    {
     "data": {
      "image/png": "[encoded data removed]",
      "text/plain": [
       "<Figure size 432x288 with 1 Axes>"
      ]
     },
     "metadata": {
      "needs_background": "light"
     },
     "output_type": "display_data"
    }
   ],
   "source": [
    "plt.plot(cv_T)\n",
    "plt.xlabel(\"Tempeture K\")\n",
    "plt.ylabel(\"Heat Capcity J/K\")"
   ]
  },
  {
   "cell_type": "code",
   "execution_count": null,
   "metadata": {},
   "outputs": [],
   "source": []
  }
 ],
 "metadata": {
  "kernelspec": {
   "display_name": "Python 3",
   "language": "python",
   "name": "python3"
  },
  "language_info": {
   "codemirror_mode": {
    "name": "ipython",
    "version": 3
   },
   "file_extension": ".py",
   "mimetype": "text/x-python",
   "name": "python",
   "nbconvert_exporter": "python",
   "pygments_lexer": "ipython3",
   "version": "3.7.3"
  }
 },
 "nbformat": 4,
 "nbformat_minor": 2
}
