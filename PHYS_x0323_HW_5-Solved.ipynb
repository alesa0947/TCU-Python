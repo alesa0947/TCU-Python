{
 "cells": [
  {
   "cell_type": "markdown",
   "metadata": {},
   "source": [
    "# Question 1: The quadratic equation:\n",
    "## Part a:"
   ]
  },
  {
   "cell_type": "code",
   "execution_count": 41,
   "metadata": {},
   "outputs": [],
   "source": [
    "import math\n",
    "import numpy as np"
   ]
  },
  {
   "cell_type": "code",
   "execution_count": 129,
   "metadata": {},
   "outputs": [],
   "source": [
    "def quadratic_standard(a,b,c):\n",
    "    \n",
    "    if b**2-4*a*c >=0.0:   #positive\n",
    "        \n",
    "        x_plus1 = (-b + np.sqrt(b**2-4*a*c))/(2*a)\n",
    "        x_minus1 = (-b - np.sqrt(b**2-4*a*c))/(2*a)\n",
    "        \n",
    "        return(x_plus1,x_minus1)\n",
    "    \n",
    "    else:\n",
    "        print('The solution is complexed')\n",
    "        return None"
   ]
  },
  {
   "cell_type": "markdown",
   "metadata": {},
   "source": [
    "### Testing the function in part a:"
   ]
  },
  {
   "cell_type": "code",
   "execution_count": 130,
   "metadata": {},
   "outputs": [
    {
     "name": "stdout",
     "output_type": "stream",
     "text": [
      "(-9.999894245993346e-07, -999999.999999)\n"
     ]
    }
   ],
   "source": [
    "ans1 = (quadratic_standard(0.001,1000,0.001))\n",
    "print(ans1)"
   ]
  },
  {
   "cell_type": "code",
   "execution_count": 131,
   "metadata": {},
   "outputs": [
    {
     "name": "stdout",
     "output_type": "stream",
     "text": [
      "The solution is complexed\n",
      "None\n"
     ]
    }
   ],
   "source": [
    "# for a complex case:\n",
    "print(quadratic_standard(1,2,3))"
   ]
  },
  {
   "cell_type": "markdown",
   "metadata": {},
   "source": [
    "## Part b:"
   ]
  },
  {
   "cell_type": "code",
   "execution_count": 132,
   "metadata": {},
   "outputs": [],
   "source": [
    "def quadratic_inverse(a,b,c):\n",
    "    if b**2-4*a*c >=0:\n",
    "        \n",
    "        x_plus2 = (2*c)/(-b+np.sqrt(b**2-4*a*c))\n",
    "        x_minus2 =(2*c)/(-b-np.sqrt(b**2-4*a*c))\n",
    "                   \n",
    "        return (x_plus2,x_minus2)\n",
    "    \n",
    "    else:\n",
    "        print('The solution is complexed')\n",
    "        return None"
   ]
  },
  {
   "cell_type": "markdown",
   "metadata": {},
   "source": [
    "### Testing the function in part b:"
   ]
  },
  {
   "cell_type": "code",
   "execution_count": 121,
   "metadata": {},
   "outputs": [
    {
     "name": "stdout",
     "output_type": "stream",
     "text": [
      "(-1000010.5755125057, -1.000000000001e-06)\n"
     ]
    }
   ],
   "source": [
    "ans2 = (quadratic_inverse(0.001,1000,0.001))\n",
    "print(ans2)"
   ]
  },
  {
   "cell_type": "code",
   "execution_count": 124,
   "metadata": {},
   "outputs": [
    {
     "name": "stdout",
     "output_type": "stream",
     "text": [
      "The solution is complexed\n",
      "None\n"
     ]
    }
   ],
   "source": [
    "# for a complex case:\n",
    "print(quadratic_inverse(1,2,3))"
   ]
  },
  {
   "cell_type": "markdown",
   "metadata": {},
   "source": [
    "### Comparing the results from a and b:"
   ]
  },
  {
   "cell_type": "code",
   "execution_count": 126,
   "metadata": {
    "scrolled": true
   },
   "outputs": [
    {
     "name": "stdout",
     "output_type": "stream",
     "text": [
      "(-9.999894245993346e-07, -999999.999999)\n",
      "(-1000010.5755125057, -1.000000000001e-06)\n",
      "The values are not exactly equal, but very close\n"
     ]
    }
   ],
   "source": [
    "print(ans1)\n",
    "print(ans2)\n",
    "print('The values are not exactly equal, but very close')"
   ]
  },
  {
   "cell_type": "markdown",
   "metadata": {},
   "source": [
    "## Part c:"
   ]
  },
  {
   "cell_type": "markdown",
   "metadata": {},
   "source": [
    "###  For the first case, to get the complex numbers:"
   ]
  },
  {
   "cell_type": "code",
   "execution_count": 189,
   "metadata": {},
   "outputs": [
    {
     "name": "stdout",
     "output_type": "stream",
     "text": [
      "((-0.2+0.7483314773547883j), (-0.2-0.7483314773547883j))\n",
      "(-9.999894245993346e-07, -999999.999999)\n"
     ]
    }
   ],
   "source": [
    "def quadratic_standard(a,b,c):\n",
    "    \n",
    "    if b**2-4*a*c >=0.0:   \n",
    "        \n",
    "        x_plus1 = (-b + np.sqrt(b**2-4*a*c))/(2*a)\n",
    "        x_minus1 = (-b - np.sqrt(b**2-4*a*c))/(2*a)\n",
    "        \n",
    "        return(x_plus1,x_minus1)\n",
    "    \n",
    "    else:\n",
    "        a = complex(a, 0)\n",
    "        b = complex(b, 0)\n",
    "        c = complex(c, 0)\n",
    "        x_plus1 = (-b + np.sqrt(b**2-4*a*c))/(2*a)\n",
    "        x_minus1 = (-b - np.sqrt(b**2-4*a*c))/(2*a)\n",
    "        \n",
    "        return(x_plus1,x_minus1)\n",
    "        return \n",
    "    \n",
    "print(quadratic_standard(5,2,3))\n",
    "print(quadratic_standard(0.001,1000,0.001))"
   ]
  },
  {
   "cell_type": "markdown",
   "metadata": {},
   "source": [
    "### For the second case, to get the complex numbers:\n"
   ]
  },
  {
   "cell_type": "code",
   "execution_count": 191,
   "metadata": {},
   "outputs": [
    {
     "name": "stdout",
     "output_type": "stream",
     "text": [
      "((-0.2-0.7483314773547883j), (-0.2+0.7483314773547883j))\n",
      "(-1000010.5755125057, -1.000000000001e-06)\n"
     ]
    }
   ],
   "source": [
    "def quadratic_inverse(a,b,c):\n",
    "    \n",
    "    if b**2-4*a*c >=0:\n",
    "        \n",
    "        x_plus2 = (2*c)/(-b+np.sqrt(b**2-4*a*c))\n",
    "        x_minus2 =(2*c)/(-b-np.sqrt(b**2-4*a*c))\n",
    "                   \n",
    "        return (x_plus2,x_minus2)\n",
    " \n",
    "    else:\n",
    "        a = complex(a, 0)\n",
    "        b = complex(b, 0)\n",
    "        c = complex(c, 0)\n",
    "        x_plus2 = (2*c)/(-b+np.sqrt(b**2-4*a*c))\n",
    "        x_minus2 =(2*c)/(-b-np.sqrt(b**2-4*a*c))\n",
    "                   \n",
    "        return(x_plus2,x_minus2)\n",
    "    \n",
    "print(quadratic_inverse(5,2,3))\n",
    "print(quadratic_inverse(0.001,1000,0.001))"
   ]
  },
  {
   "cell_type": "markdown",
   "metadata": {},
   "source": [
    "# Question 2: The semi-empirical mass formula:"
   ]
  },
  {
   "cell_type": "code",
   "execution_count": 1,
   "metadata": {},
   "outputs": [
    {
     "name": "stdout",
     "output_type": "stream",
     "text": [
      "The binding energy B1 = -8454.316973803734\n",
      "The binding energy per nucleon B1/A1 = 8.46179745539198\n",
      "\n",
      "The binding energy B2 = 498.144677545714\n",
      "The binding energy per nucleon B2/A2 = 8.443130127893458\n",
      "\n",
      "The binding energy B3 = 485.30934897614435\n",
      "The binding energy per nucleon B3/A3 = 8.367402568554214\n"
     ]
    }
   ],
   "source": [
    "a_1 = 15.67\n",
    "a_2 = 17.23\n",
    "a_3 = 0.75\n",
    "a_4 = 93.2\n",
    "\n",
    "\n",
    "\n",
    "def binding_energy(A,Z):\n",
    "    if A%2==1:\n",
    "        return((a_1*A)-(a_2*(A**(2/3)))-((a_3*(Z**2))/(A**(1/3)))-(((a_4)*((A-(2*Z))**2)))/(A))\n",
    "    elif A%2==0 and Z%2==0:\n",
    "        return((a_1*A)-(a_2*(A**(2/3)))-((a_3*(Z**2))/(A**(1/3)))-(((a_4)*((A-(2*Z))**2)))/(A))-((12)/(A**(1/2)))\n",
    "    elif A%2==0 and Z%2==1:\n",
    "        return((a_1*A)-(a_2*(A**(2/3)))-((a_3*(Z**2))/(A**(1/3)))-(((a_4)*((A-(2*Z))**2)))/(A))+((12)/(A**(1/2)))\n",
    "                                            \n",
    "                                           \n",
    "print('The binding energy B1 =', binding_energy(58,28))\n",
    "print('The binding energy per nucleon B1/A1 =', binding_energy(58,28)/(58))\n",
    "\n",
    "print(\n",
    ")\n",
    "      \n",
    "print('The binding energy B2 =', binding_energy(59,28))\n",
    "print('The binding energy per nucleon B2/A2 =',binding_energy(59,28)/(59))\n",
    "\n",
    "print(\n",
    ")\n",
    "\n",
    "print('The binding energy B3 =', binding_energy(58,27))\n",
    "print('The binding energy per nucleon B3/A3 =', binding_energy(58,27)/(58))"
   ]
  }
 ],
 "metadata": {
  "kernelspec": {
   "display_name": "Python 3",
   "language": "python",
   "name": "python3"
  },
  "language_info": {
   "codemirror_mode": {
    "name": "ipython",
    "version": 3
   },
   "file_extension": ".py",
   "mimetype": "text/x-python",
   "name": "python",
   "nbconvert_exporter": "python",
   "pygments_lexer": "ipython3",
   "version": "3.7.3"
  }
 },
 "nbformat": 4,
 "nbformat_minor": 2
}
