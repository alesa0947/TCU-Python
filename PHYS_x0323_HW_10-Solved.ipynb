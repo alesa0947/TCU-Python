{
 "cells": [
  {
   "cell_type": "markdown",
   "metadata": {},
   "source": [
    "## Let's Make A Deal"
   ]
  },
  {
   "cell_type": "code",
   "execution_count": 2,
   "metadata": {},
   "outputs": [],
   "source": [
    "import numpy as np\n",
    "import random"
   ]
  },
  {
   "cell_type": "markdown",
   "metadata": {},
   "source": [
    "#### Write a code that implement this test for 1000 games:"
   ]
  },
  {
   "cell_type": "code",
   "execution_count": 3,
   "metadata": {},
   "outputs": [],
   "source": [
    "games=np.arange(0,1001,1)"
   ]
  },
  {
   "cell_type": "markdown",
   "metadata": {},
   "source": [
    "#### There is a total of three doors and three prizes (1 behind each door). The player can choose one of three doors (will make it random)"
   ]
  },
  {
   "cell_type": "code",
   "execution_count": 4,
   "metadata": {},
   "outputs": [],
   "source": [
    "# prize_options = ['prize1','prize2','prize3']\n",
    "# door_choices = random.randrange(len(prize_options))"
   ]
  },
  {
   "cell_type": "code",
   "execution_count": 5,
   "metadata": {},
   "outputs": [],
   "source": [
    "#staying with the first selected door:\n",
    "keep_door=0\n",
    "\n",
    "#winning after not switching the selected door:\n",
    "keep_door_right=0\n",
    "\n",
    "#loosing after not switching the selected door:\n",
    "keep_door_wrong=0\n",
    "\n",
    "#switching the initially selected door:\n",
    "switch_door=0\n",
    "\n",
    "#winning after switching the selected door:\n",
    "switch_door_right=0\n",
    "\n",
    "#loosing after switching the selected door:\n",
    "switch_door_wrong=0"
   ]
  },
  {
   "cell_type": "code",
   "execution_count": 6,
   "metadata": {},
   "outputs": [],
   "source": [
    "#prize option\n",
    "\n",
    "\n",
    "for i in games:\n",
    "    \n",
    "    \n",
    "    #prize options are a total of 3\n",
    "    prize_options = np.random.randint(0,3)\n",
    "    #door choices are 3 random doors\n",
    "    door_choices = np.random.randint(0,3)\n",
    "    #this is the choice that the player makes\n",
    "    selected_door = random.randint(0,3)\n",
    "                    \n",
    "\n",
    "        \n",
    "    #condition \n",
    "    if selected_door==prize_options:\n",
    "        while selected_door==prize_options: selected_door= np.random.randint(0,3)\n",
    "        n=np.random.random()\n",
    "        if n < (1/2):\n",
    "            \n",
    "            switch_door=switch_door+1\n",
    "            if door_choices==prize_options: switch_door_wrong=switch_door_wrong+1\n",
    "            else: switch_door_right=switch_door_right+1   \n",
    "                \n",
    "    elif selected_door==door_choices:\n",
    "        while selected_door==door_choices: selected_door= np.random.randint(0,3)\n",
    "        n=np.random.random()\n",
    "        if n < (1/2):\n",
    "            \n",
    "            switch_door=switch_door+1\n",
    "            if door_choices==prize_options: switch_door_wrong=switch_door_wrong+1\n",
    "            else: switch_door_right=switch_door_right+1   \n",
    "                    \n",
    "                \n",
    "        \n",
    "        else:\n",
    "            keep_door=keep_door+1\n",
    "           \n",
    "            if door_choices==prize_options: keep_door_right+=1\n",
    "            else: keep_door_wrong=keep_door_wrong+1\n",
    "         \n",
    "    else:\n",
    "        n=np.random.random()\n",
    "        if n < (1/2):\n",
    "            \n",
    "            switch_door=switch_door+1\n",
    "            if door_choices==prize_options: switch_door_wrong+=1\n",
    "            else: switch_door_right=switch_door_right+1\n",
    "                \n",
    "        else: \n",
    "            \n",
    "            keep_door=keep_door+1\n",
    "            if door_choices==prize_options: keep_door_right+=1\n",
    "            else: keep_door_wrong=keep_door_wrong+1\n",
    "                    \n",
    "                    "
   ]
  },
  {
   "cell_type": "markdown",
   "metadata": {},
   "source": [
    "Keeping the door stats:"
   ]
  },
  {
   "cell_type": "code",
   "execution_count": 7,
   "metadata": {},
   "outputs": [
    {
     "name": "stdout",
     "output_type": "stream",
     "text": [
      "trials of keeping the selected door 358\n",
      "times of getting a prize from keep the door 117\n",
      "times of loosing from keeping the door 241\n",
      "Probalility of winning from switching 0.6776061776061776\n"
     ]
    }
   ],
   "source": [
    "print(\"trials of keeping the selected door\", keep_door)\n",
    "print(\"times of getting a prize from keep the door\" ,keep_door_right)\n",
    "print(\"times of loosing from keeping the door\", keep_door_wrong)\n",
    "print(\"Probalility of winning from switching\",switch_door_right/switch_door)              "
   ]
  },
  {
   "cell_type": "markdown",
   "metadata": {},
   "source": [
    "Switching the door stats:"
   ]
  },
  {
   "cell_type": "code",
   "execution_count": 8,
   "metadata": {},
   "outputs": [
    {
     "name": "stdout",
     "output_type": "stream",
     "text": [
      "trials of switching to a new door 518\n",
      "times of winning from switching to a new door 351\n",
      "times of loosing from switching to a new door 167\n",
      "Probability of winning by keeping the door 0.3268156424581006\n"
     ]
    }
   ],
   "source": [
    "print(\"trials of switching to a new door\" ,switch_door)\n",
    "print(\"times of winning from switching to a new door\",switch_door_right)\n",
    "print(\"times of loosing from switching to a new door\",switch_door_wrong)\n",
    "print(\"Probability of winning by keeping the door\", keep_door_right/keep_door)"
   ]
  },
  {
   "cell_type": "code",
   "execution_count": 15,
   "metadata": {},
   "outputs": [],
   "source": [
    "#prize option\n",
    "\n",
    "\n",
    "for i in games:\n",
    "    \n",
    "    \n",
    "    #prize options are a total of 4\n",
    "    prize_options = np.random.randint(0,4)\n",
    "    #door choices are 4 random doors\n",
    "    door_choices = np.random.randint(0,4)\n",
    "    #this is the choice that the player makes\n",
    "    selected_door = random.randint(0,4)\n",
    "                    \n",
    "\n",
    "        \n",
    "    #condition 1\n",
    "    if selected_door==prize_options:\n",
    "        while selected_door==prize_options: selected_door= np.random.randint(0,4)\n",
    "        n=np.random.random()\n",
    "        b=np.random.random()\n",
    "        if n < (1/2):\n",
    "            \n",
    "            switch_door=switch_door+1\n",
    "            if door_choices==prize_options: switch_door_wrong=switch_door_wrong+1\n",
    "            elif b<(1/2):\n",
    "                switch_door_wrong=switch_door_wrong+1\n",
    "            else: switch_door_right=switch_door_right+1   \n",
    "                \n",
    "                \n",
    "    #condition 2 \n",
    "    elif selected_door==door_choices:\n",
    "        while selected_door==door_choices: selected_door= np.random.randint(0,3)\n",
    "        n=np.random.random()\n",
    "        if n < (1/2):\n",
    "            \n",
    "            switch_door=switch_door+1\n",
    "            if door_choices==prize_options: switch_door_wrong=switch_door_wrong+1\n",
    "            else: switch_door_right=switch_door_right+1   \n",
    "                    \n",
    "                \n",
    "        \n",
    "        else:\n",
    "            keep_door=keep_door+1\n",
    "           \n",
    "            if door_choices==prize_options: keep_door_right+=1\n",
    "            else: keep_door_wrong=keep_door_wrong+1\n",
    "         \n",
    "    else:\n",
    "        n=np.random.random()\n",
    "        if n < (1/2):\n",
    "            \n",
    "            switch_door=switch_door+1\n",
    "            if door_choices==prize_options: switch_door_wrong+=1\n",
    "            else: switch_door_right=switch_door_right+1\n",
    "                \n",
    "        else: \n",
    "            \n",
    "            keep_door=keep_door+1\n",
    "            if door_choices==prize_options: keep_door_right+=1\n",
    "            else: keep_door_wrong=keep_door_wrong+1\n",
    "                    \n",
    "                    "
   ]
  },
  {
   "cell_type": "code",
   "execution_count": 16,
   "metadata": {},
   "outputs": [
    {
     "name": "stdout",
     "output_type": "stream",
     "text": [
      "trials of switching to a new door 2011\n",
      "times of winning from switching to a new door 1422\n",
      "times of loosing from switching to a new door 589\n",
      "Probability of winning by keeping the door 0.2683544303797468\n"
     ]
    }
   ],
   "source": [
    "print(\"trials of switching to a new door\" ,switch_door)\n",
    "print(\"times of winning from switching to a new door\",switch_door_right)\n",
    "print(\"times of loosing from switching to a new door\",switch_door_wrong)\n",
    "print(\"Probability of winning by keeping the door\", keep_door_right/keep_door)"
   ]
  },
  {
   "cell_type": "code",
   "execution_count": 17,
   "metadata": {},
   "outputs": [
    {
     "name": "stdout",
     "output_type": "stream",
     "text": [
      "trials of keeping the selected door 1580\n",
      "times of getting a prize from keep the door 424\n",
      "times of loosing from keeping the door 1156\n",
      "Probalility of winning from switching 0.7071108901044256\n"
     ]
    }
   ],
   "source": [
    "print(\"trials of keeping the selected door\", keep_door)\n",
    "print(\"times of getting a prize from keep the door\" ,keep_door_right)\n",
    "print(\"times of loosing from keeping the door\", keep_door_wrong)\n",
    "print(\"Probalility of winning from switching\",switch_door_right/switch_door)              "
   ]
  },
  {
   "cell_type": "code",
   "execution_count": null,
   "metadata": {},
   "outputs": [],
   "source": []
  }
 ],
 "metadata": {
  "kernelspec": {
   "display_name": "Python 3",
   "language": "python",
   "name": "python3"
  },
  "language_info": {
   "codemirror_mode": {
    "name": "ipython",
    "version": 3
   },
   "file_extension": ".py",
   "mimetype": "text/x-python",
   "name": "python",
   "nbconvert_exporter": "python",
   "pygments_lexer": "ipython3",
   "version": "3.7.3"
  }
 },
 "nbformat": 4,
 "nbformat_minor": 2
}
