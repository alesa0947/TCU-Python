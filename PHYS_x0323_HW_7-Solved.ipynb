{
 "cells": [
  {
   "cell_type": "markdown",
   "metadata": {},
   "source": [
    "# Problem 1:\n",
    "\n",
    "Gaussian normal deviates z \n",
    "\n",
    "mean = z_0\n",
    "standard deviation sigma"
   ]
  },
  {
   "cell_type": "code",
   "execution_count": 63,
   "metadata": {},
   "outputs": [],
   "source": [
    "import numpy as np\n",
    "import math\n",
    "from math import log, pi\n",
    "\n",
    "\n",
    "z_0 = -1\n",
    "sigma = 2\n",
    "x = np.random.rand()\n",
    "# z = x*sigma + z_0"
   ]
  },
  {
   "cell_type": "code",
   "execution_count": 64,
   "metadata": {},
   "outputs": [],
   "source": [
    "def r(v):\n",
    "    x = np.random.rand()\n",
    "    return np.sqrt(-2*(v**2)*log(1-x))"
   ]
  },
  {
   "cell_type": "code",
   "execution_count": 65,
   "metadata": {},
   "outputs": [],
   "source": [
    "def x(k):\n",
    "    \n",
    "    theta = 2*pi*np.random.rand()\n",
    "    \n",
    "    return k*math.cos(theta)"
   ]
  },
  {
   "cell_type": "code",
   "execution_count": 66,
   "metadata": {},
   "outputs": [],
   "source": [
    "def y(n):\n",
    "    \n",
    "    theta = 2*pi*np.random.rand()\n",
    "    return n*math.sin(theta)"
   ]
  },
  {
   "cell_type": "code",
   "execution_count": 67,
   "metadata": {},
   "outputs": [],
   "source": [
    "from matplotlib import pyplot as plt\n",
    "N = 0\n",
    "\n",
    "X = []\n",
    "Y = []\n",
    "Z = []\n",
    "\n",
    "while N < 1000:\n",
    "    m = r(sigma)\n",
    "    a = x(m)\n",
    "    b = y(m)\n",
    "    c = a + z_0\n",
    "    X.append(a)\n",
    "    Y.append(b)\n",
    "    Z.append(c)\n",
    "    N +=1"
   ]
  },
  {
   "cell_type": "code",
   "execution_count": 68,
   "metadata": {},
   "outputs": [
    {
     "data": {
      "image/png": "[encoded data removed]",
      "text/plain": [
       "<Figure size 432x288 with 1 Axes>"
      ]
     },
     "metadata": {
      "needs_background": "light"
     },
     "output_type": "display_data"
    },
    {
     "data": {
      "text/plain": [
       "<function matplotlib.pyplot.grid(b=None, which='major', axis='both', **kwargs)>"
      ]
     },
     "execution_count": 68,
     "metadata": {},
     "output_type": "execute_result"
    }
   ],
   "source": [
    "plt.hist(Z,100)\n",
    "plt.show()\n",
    "plt.grid"
   ]
  },
  {
   "cell_type": "markdown",
   "metadata": {},
   "source": [
    "# Problem 2:"
   ]
  },
  {
   "cell_type": "code",
   "execution_count": 1,
   "metadata": {},
   "outputs": [],
   "source": [
    "from random import random\n",
    "from numpy import arange\n",
    "from matplotlib import pyplot as plt"
   ]
  },
  {
   "cell_type": "code",
   "execution_count": 58,
   "metadata": {},
   "outputs": [],
   "source": [
    "#constants:\n",
    "\n",
    "Bi_213 = 10000   # number of Bi 213 atoms\n",
    "Bi_209 = 0 #number of Bi 209 atoms\n",
    "Pb = 0  # number of Pb atoms\n",
    "TI = 0 #number of TI atoms\n",
    "\n",
    "Bitau = 46 * 60 #converting half life of Bi to seconds\n",
    "TItau = 2.2 * 60 #half life of Ti in seconds\n",
    "Pbtau = 3.3 * 60 #half life of Pb in seconds\n",
    "\n",
    "#since Bi_209 is stable, we don't have to worry about tau for it.\n",
    "\n",
    "t = 1.0      # size of the time step in seconds \n",
    "tmax = 20000 # Total time"
   ]
  },
  {
   "cell_type": "code",
   "execution_count": 59,
   "metadata": {},
   "outputs": [],
   "source": [
    "# Probability of decay in one step\n",
    "\n",
    "def P(tau):\n",
    "    return 1 - (2**(-t/tau))  "
   ]
  },
  {
   "cell_type": "code",
   "execution_count": 60,
   "metadata": {},
   "outputs": [],
   "source": [
    "#Create lists of atoms:\n",
    "\n",
    "tpoints = arange(0.0,tmax,t)\n",
    "Bi213points = []\n",
    "Pbpoints = []\n",
    "TIpoints = []\n",
    "Bi209points = []"
   ]
  },
  {
   "cell_type": "code",
   "execution_count": 61,
   "metadata": {},
   "outputs": [],
   "source": [
    "#Main loop:\n",
    "\n",
    "for ts in tpoints:\n",
    "    Bi213points.append(Bi_213)\n",
    "    Pbpoints.append(Pb)\n",
    "    TIpoints.append(TI)\n",
    "    Bi209points.append(Bi_209)\n",
    "    \n",
    "    #Calculate the number of atoms that decay:\n",
    "    decayBi = 0\n",
    "    decayPb = 0\n",
    "    decayTI = 0\n",
    "    \n",
    "    for i in range(Pb):\n",
    "        if random() < P(Pbtau):\n",
    "            decayPb += 1\n",
    "    Bi_209 += decayPb\n",
    "    Pb -= decayPb\n",
    "\n",
    "    for j in range(TI):\n",
    "        if random() < P(TItau):\n",
    "            decayTI += 1\n",
    "    TI -= decayTI\n",
    "    Pb += decayTI\n",
    "        \n",
    "    for k in range(Bi_213):\n",
    "        if random() < P(Bitau):\n",
    "            decayBi += 1\n",
    "            if random() > 0.029:\n",
    "                Bi_213 -= decayBi\n",
    "                Pb += decayBi\n",
    "            else:\n",
    "                Bi_213 -= decayBi\n",
    "                TI += decayBi"
   ]
  },
  {
   "cell_type": "code",
   "execution_count": 62,
   "metadata": {},
   "outputs": [
    {
     "data": {
      "image/png": "[encoded data removed]",
      "text/plain": [
       "<Figure size 432x288 with 1 Axes>"
      ]
     },
     "metadata": {
      "needs_background": "light"
     },
     "output_type": "display_data"
    }
   ],
   "source": [
    "fig = plt.figure()\n",
    "ax = fig.add_subplot(111)\n",
    "\n",
    "ax.scatter(tpoints,Bi213points,s=5,c=\"r\",alpha=0.3)\n",
    "ax.scatter(tpoints,Pbpoints,s=5,c=\"k\",alpha=0.3)\n",
    "ax.scatter(tpoints,TIpoints,s=5,c=\"c\",alpha=0.3)\n",
    "ax.scatter(tpoints,Bi209points,s=5,c=\"m\",alpha=0.3)\n",
    "ax.set_xlabel(\"$Time$ $(s)$\", size =20)\n",
    "ax.set_ylabel(\"Number of Atoms\", size =20)\n",
    "ax.xaxis.set_tick_params(labelsize=20)\n",
    "ax.yaxis.set_tick_params(labelsize=20)\n",
    "\n"
   ]
  },
  {
   "cell_type": "code",
   "execution_count": null,
   "metadata": {},
   "outputs": [],
   "source": []
  }
 ],
 "metadata": {
  "kernelspec": {
   "display_name": "Python 3",
   "language": "python",
   "name": "python3"
  },
  "language_info": {
   "codemirror_mode": {
    "name": "ipython",
    "version": 3
   },
   "file_extension": ".py",
   "mimetype": "text/x-python",
   "name": "python",
   "nbconvert_exporter": "python",
   "pygments_lexer": "ipython3",
   "version": "3.7.3"
  }
 },
 "nbformat": 4,
 "nbformat_minor": 2
}
